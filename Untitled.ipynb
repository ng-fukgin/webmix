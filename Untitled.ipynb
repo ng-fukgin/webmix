{
 "cells": [
  {
   "cell_type": "code",
   "execution_count": 1,
   "id": "4dea8d8b-2274-46cc-b57d-82a1d8fb7d14",
   "metadata": {
    "tags": []
   },
   "outputs": [
    {
     "name": "stdout",
     "output_type": "stream",
     "text": [
      "Error encountered: There is no such driver by url https://chromedriver.storage.googleapis.com/LATEST_RELEASE_117.0.5938\n",
      "None\n"
     ]
    }
   ],
   "source": [
    "from web_utils import WebFetcher\n",
    "url=\"https://www.google.com/search?q=translate&rlz=1C1VDKB_zh-HKHK1018HK1018&oq=tra&aqs=chrome.0.0i131i433i512j69i57j0i131i433i512l6j0i131i433j0i131i433i512.3857j0j4&sourceid=chrome&ie=UTF-8\"\n",
    "# 使用requests\n",
    "# fetcher = WebFetcher(backend='requests')\n",
    "# content = fetcher.get(url)\n",
    "# print(content)\n",
    "\n",
    "# 使用urllib\n",
    "# fetcher = WebFetcher(backend='urllib')\n",
    "# content = fetcher.get(url)\n",
    "# print(content)\n",
    "\n",
    "# 使用selenium\n",
    "fetcher = WebFetcher(backend='selenium')\n",
    "content = fetcher.get(url)\n",
    "print(content)\n",
    "fetcher.close()  # Close the browser\n"
   ]
  },
  {
   "cell_type": "code",
   "execution_count": null,
   "id": "51e290a7-1a2b-4df6-b907-9b1d405edc87",
   "metadata": {},
   "outputs": [],
   "source": []
  }
 ],
 "metadata": {
  "kernelspec": {
   "display_name": "Python 3 (ipykernel)",
   "language": "python",
   "name": "python3"
  },
  "language_info": {
   "codemirror_mode": {
    "name": "ipython",
    "version": 3
   },
   "file_extension": ".py",
   "mimetype": "text/x-python",
   "name": "python",
   "nbconvert_exporter": "python",
   "pygments_lexer": "ipython3",
   "version": "3.10.6"
  }
 },
 "nbformat": 4,
 "nbformat_minor": 5
}
